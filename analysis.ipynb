{
 "cells": [
  {
   "cell_type": "markdown",
   "id": "6867aa2e",
   "metadata": {},
   "source": [
    "# Load file"
   ]
  },
  {
   "cell_type": "code",
   "execution_count": 2,
   "id": "22a1c025",
   "metadata": {},
   "outputs": [],
   "source": [
    "with open('miracle_in_the_andes.txt', 'r') as file:\n",
    "    book = file.read()"
   ]
  },
  {
   "cell_type": "markdown",
   "id": "f202c248",
   "metadata": {},
   "source": [
    "# How many chapters?"
   ]
  },
  {
   "cell_type": "markdown",
   "id": "b0fba91a",
   "metadata": {},
   "source": [
    "## With string count"
   ]
  },
  {
   "cell_type": "code",
   "execution_count": 3,
   "id": "8c2d7528",
   "metadata": {},
   "outputs": [
    {
     "data": {
      "text/plain": [
       "11"
      ]
     },
     "execution_count": 3,
     "metadata": {},
     "output_type": "execute_result"
    }
   ],
   "source": [
    "book.count('Chapter')"
   ]
  },
  {
   "cell_type": "markdown",
   "id": "2e24cad0",
   "metadata": {},
   "source": [
    "## With regex"
   ]
  },
  {
   "cell_type": "code",
   "execution_count": 4,
   "id": "41b26ed0",
   "metadata": {},
   "outputs": [
    {
     "data": {
      "text/plain": [
       "10"
      ]
     },
     "execution_count": 4,
     "metadata": {},
     "output_type": "execute_result"
    }
   ],
   "source": [
    "import re\n",
    "chapters = re.findall(r'Chapter \\d+', book)\n",
    "len(chapters)"
   ]
  },
  {
   "cell_type": "markdown",
   "id": "f5dceb67",
   "metadata": {},
   "source": [
    "# Which are the sentences where 'love' are used ?"
   ]
  },
  {
   "cell_type": "code",
   "execution_count": 19,
   "id": "29b3e3d3",
   "metadata": {},
   "outputs": [
    {
     "data": {
      "text/plain": [
       "['As a young man, of course, I could not put these things into words, but I knew, and my teammates knew, that there was something special about the game, and under the guidance of the Christian Brothers we developed a passionate love for the sport that shaped our friendships and our lives.',\n",
       " 'Guido and I grew up together, playing soccer and sharing a love of motorcycles, cars, and auto racing.',\n",
       " 'Under the guidance of the Christian Brothers, both of us grew to love the game of rugby with a consuming passion.',\n",
       " 'That rowdiness came to an abrupt end for Guido in 1969, when he met and fell in love with the beautiful daughter of a Chilean diplomat.',\n",
       " 'I believe he had a great hunger for the love and comforts of a family that was happy and whole.',\n",
       " 'He shared, with my father and me, a love for cars and driving, and he loved going with us to auto races.',\n",
       " 'The house had a beautiful view of the sea, and this more than anything made my mother love it.',\n",
       " 'She was a true tower of strength, but her strength was always based in warmth and love and because of her love and protection I grew up believing the world was a safe, familiar place.',\n",
       " 'He had given us a life of comfort and privilege such as his own father never could have imagined, he had provided for us and protected us in the best way he could, and though he was not an emotionally expressive man, he always showed his love for us subtly, quietly, and in ways that were true to the man he was.',\n",
       " 'Out of love for his family he had arranged in his mind a future that would keep us all safe, happy, and always together.']"
      ]
     },
     "execution_count": 19,
     "metadata": {},
     "output_type": "execute_result"
    }
   ],
   "source": [
    "findings = re.findall(r'[A-Z]{1}[^.]*[^a-zA-Z]+love[^a-zA-Z]+[^.]*.', book)\n",
    "findings[:10]  # Display the first 10 sentences containing 'love'"
   ]
  },
  {
   "cell_type": "markdown",
   "id": "a86050e0",
   "metadata": {},
   "source": [
    "# What are the most used word ?"
   ]
  },
  {
   "cell_type": "code",
   "execution_count": 24,
   "id": "420dd581",
   "metadata": {},
   "outputs": [
    {
     "data": {
      "text/plain": [
       "86798"
      ]
     },
     "execution_count": 24,
     "metadata": {},
     "output_type": "execute_result"
    }
   ],
   "source": [
    "patterns = re.compile('[a-zA-Z]+')\n",
    "findings = re.findall(patterns, book.lower())\n",
    "len(findings)"
   ]
  },
  {
   "cell_type": "code",
   "execution_count": 41,
   "id": "009f0232",
   "metadata": {},
   "outputs": [
    {
     "data": {
      "text/plain": [
       "['the', 'and', 'i', 'to', 'of', 'a', 'was', 'in', 'we', 'my']"
      ]
     },
     "execution_count": 41,
     "metadata": {},
     "output_type": "execute_result"
    }
   ],
   "source": [
    "counts = {}\n",
    "for word in findings:\n",
    "    counts[word] = counts.get(word, 0) + 1\n",
    "sorted(counts, key=lambda x: counts[x], reverse=True)[:10]  # Display the top 10 most used words"
   ]
  },
  {
   "cell_type": "code",
   "execution_count": 42,
   "id": "b5adb810",
   "metadata": {},
   "outputs": [
    {
     "data": {
      "text/plain": [
       "[(5346, 'the'),\n",
       " (2795, 'and'),\n",
       " (2729, 'i'),\n",
       " (2400, 'to'),\n",
       " (2060, 'of'),\n",
       " (1566, 'a'),\n",
       " (1430, 'was'),\n",
       " (1419, 'in'),\n",
       " (1226, 'we'),\n",
       " (1169, 'my')]"
      ]
     },
     "execution_count": 42,
     "metadata": {},
     "output_type": "execute_result"
    }
   ],
   "source": [
    "counts_list = [(value, key) for key, value in counts.items()]\n",
    "counts_list.sort(reverse=True)\n",
    "counts_list[:10]  # Display the top 10 most used words with their counts"
   ]
  },
  {
   "cell_type": "markdown",
   "id": "12b946e2",
   "metadata": {},
   "source": [
    "# Extract the paragraphs where 'love' was used"
   ]
  },
  {
   "cell_type": "code",
   "execution_count": 62,
   "id": "e8bfb6f9",
   "metadata": {},
   "outputs": [
    {
     "data": {
      "text/plain": [
       "60"
      ]
     },
     "execution_count": 62,
     "metadata": {},
     "output_type": "execute_result"
    }
   ],
   "source": [
    "patterns = re.compile('[^\\n]+love[^\\n]+')\n",
    "paragraphs = re.findall(patterns, book)\n",
    "len(paragraphs)  # Display the first 10 paragraphs containing 'love'"
   ]
  },
  {
   "cell_type": "markdown",
   "id": "17d2e077",
   "metadata": {},
   "source": [
    "# Extract the chapter titles"
   ]
  },
  {
   "cell_type": "code",
   "execution_count": 102,
   "id": "de84642f",
   "metadata": {},
   "outputs": [
    {
     "data": {
      "text/plain": [
       "['Before',\n",
       " 'Everything Precious',\n",
       " 'A Promise',\n",
       " 'Breathe Once More',\n",
       " 'Abandoned',\n",
       " 'Tomb',\n",
       " 'East',\n",
       " 'The Opposite of Death',\n",
       " 'I See a Man',\n",
       " 'After']"
      ]
     },
     "execution_count": 102,
     "metadata": {},
     "output_type": "execute_result"
    }
   ],
   "source": [
    "patterns = re.compile('[a-zA-Z ,]+\\n\\n')\n",
    "titles = re.findall(patterns, book)\n",
    "titles = [title.strip() for title in titles]\n",
    "titles"
   ]
  },
  {
   "cell_type": "markdown",
   "id": "68cb0998",
   "metadata": {},
   "source": [
    "# Function that finds the occurrence of any word"
   ]
  },
  {
   "cell_type": "code",
   "execution_count": 75,
   "id": "aad7d9d6",
   "metadata": {},
   "outputs": [],
   "source": [
    "def find(word):\n",
    "    if word not in counts.keys():\n",
    "        print(f'The book does not contain the word \"{word}\".')\n",
    "    else:\n",
    "        print(counts[word], f'instances of the word \"{word}\" found in the book.')"
   ]
  },
  {
   "cell_type": "markdown",
   "id": "5683dd75",
   "metadata": {},
   "source": [
    "# Call the function"
   ]
  },
  {
   "cell_type": "code",
   "execution_count": 60,
   "id": "ac986aab",
   "metadata": {},
   "outputs": [
    {
     "name": "stdout",
     "output_type": "stream",
     "text": [
      "The book does not contain the word \"hate\".\n"
     ]
    }
   ],
   "source": [
    "find('hate')"
   ]
  },
  {
   "cell_type": "code",
   "execution_count": 61,
   "id": "7301aa2d",
   "metadata": {},
   "outputs": [
    {
     "name": "stdout",
     "output_type": "stream",
     "text": [
      "83 instances of the word \"love\" found in the book.\n"
     ]
    }
   ],
   "source": [
    "find('love')"
   ]
  },
  {
   "cell_type": "markdown",
   "id": "62192b35",
   "metadata": {},
   "source": [
    "# What are the most used word (non-stopwords) ?"
   ]
  },
  {
   "cell_type": "code",
   "execution_count": 79,
   "id": "78f30d6a",
   "metadata": {},
   "outputs": [],
   "source": [
    "import nltk\n",
    "from nltk.corpus import stopwords"
   ]
  },
  {
   "cell_type": "code",
   "execution_count": 80,
   "id": "7aec6b70",
   "metadata": {},
   "outputs": [],
   "source": [
    "d_list = []\n",
    "for key, count in counts.items():\n",
    "    if key in stopwords.words('english'):\n",
    "        continue\n",
    "    d_list.append((count, key))\n",
    "d_list.sort(reverse=True)"
   ]
  },
  {
   "cell_type": "code",
   "execution_count": 81,
   "id": "87cce22f",
   "metadata": {},
   "outputs": [
    {
     "data": {
      "text/plain": [
       "[(575, 'would'),\n",
       " (519, 'us'),\n",
       " (292, 'said'),\n",
       " (284, 'roberto'),\n",
       " (252, 'could'),\n",
       " (249, 'one'),\n",
       " (227, 'snow'),\n",
       " (183, 'mountain'),\n",
       " (182, 'time'),\n",
       " (165, 'like')]"
      ]
     },
     "execution_count": 81,
     "metadata": {},
     "output_type": "execute_result"
    }
   ],
   "source": [
    "d_list[:10]  # Display the top 10 most used non-stopwords with their counts"
   ]
  },
  {
   "cell_type": "markdown",
   "id": "1939a1e0",
   "metadata": {},
   "source": [
    "# Sentiment Analysis: What is the most positive and negative chapter ?"
   ]
  },
  {
   "cell_type": "markdown",
   "id": "9b5ad054",
   "metadata": {},
   "source": [
    "## An example"
   ]
  },
  {
   "cell_type": "code",
   "execution_count": 83,
   "id": "17213ff2",
   "metadata": {},
   "outputs": [
    {
     "name": "stderr",
     "output_type": "stream",
     "text": [
      "[nltk_data] Downloading package vader_lexicon to\n",
      "[nltk_data]     C:\\Users\\catas\\AppData\\Roaming\\nltk_data...\n"
     ]
    },
    {
     "data": {
      "text/plain": [
       "True"
      ]
     },
     "execution_count": 83,
     "metadata": {},
     "output_type": "execute_result"
    }
   ],
   "source": [
    "nltk.download('vader_lexicon')"
   ]
  },
  {
   "cell_type": "code",
   "execution_count": 96,
   "id": "93595609",
   "metadata": {},
   "outputs": [],
   "source": [
    "from nltk.sentiment import SentimentIntensityAnalyzer\n",
    "sia = SentimentIntensityAnalyzer()\n",
    "scores = sia.polarity_scores('hate, kill, die, love')"
   ]
  },
  {
   "cell_type": "code",
   "execution_count": 99,
   "id": "4156a5f9",
   "metadata": {},
   "outputs": [
    {
     "name": "stdout",
     "output_type": "stream",
     "text": [
      "This is a negative text.\n"
     ]
    }
   ],
   "source": [
    "if scores['neg'] > scores['pos']:\n",
    "    print('This is a negative text.')\n",
    "else:\n",
    "    print('This is a positive text.')"
   ]
  },
  {
   "cell_type": "markdown",
   "id": "053547a9",
   "metadata": {},
   "source": [
    "## Chapters sentiment analysis"
   ]
  },
  {
   "cell_type": "code",
   "execution_count": 103,
   "id": "2ddb539e",
   "metadata": {},
   "outputs": [
    {
     "name": "stdout",
     "output_type": "stream",
     "text": [
      "Chapter  1: {'neg': 0.061, 'neu': 0.779, 'pos': 0.16, 'compound': 1.0}\n",
      "Chapter  2: {'neg': 0.12, 'neu': 0.726, 'pos': 0.154, 'compound': 0.9991}\n",
      "Chapter  3: {'neg': 0.145, 'neu': 0.751, 'pos': 0.105, 'compound': -0.9999}\n",
      "Chapter  4: {'neg': 0.141, 'neu': 0.721, 'pos': 0.138, 'compound': -0.9963}\n",
      "Chapter  5: {'neg': 0.118, 'neu': 0.742, 'pos': 0.141, 'compound': 0.9997}\n",
      "Chapter  6: {'neg': 0.124, 'neu': 0.761, 'pos': 0.115, 'compound': -0.9979}\n",
      "Chapter  7: {'neg': 0.136, 'neu': 0.761, 'pos': 0.103, 'compound': -0.9999}\n",
      "Chapter  8: {'neg': 0.12, 'neu': 0.786, 'pos': 0.094, 'compound': -0.9998}\n",
      "Chapter  9: {'neg': 0.097, 'neu': 0.824, 'pos': 0.079, 'compound': -0.9996}\n",
      "Chapter 10: {'neg': 0.086, 'neu': 0.733, 'pos': 0.181, 'compound': 1.0}\n"
     ]
    }
   ],
   "source": [
    "patterns = re.compile('Chapter [0-9]+')\n",
    "chapters = re.split(patterns, book)\n",
    "for i, chapters in enumerate(chapters[1:]):\n",
    "    scores = sia.polarity_scores(chapters)\n",
    "    print(f'Chapter {i + 1:2}: {scores}')"
   ]
  },
  {
   "cell_type": "code",
   "execution_count": null,
   "id": "3080cf5b",
   "metadata": {},
   "outputs": [],
   "source": []
  }
 ],
 "metadata": {
  "kernelspec": {
   "display_name": "base",
   "language": "python",
   "name": "python3"
  },
  "language_info": {
   "codemirror_mode": {
    "name": "ipython",
    "version": 3
   },
   "file_extension": ".py",
   "mimetype": "text/x-python",
   "name": "python",
   "nbconvert_exporter": "python",
   "pygments_lexer": "ipython3",
   "version": "3.12.7"
  }
 },
 "nbformat": 4,
 "nbformat_minor": 5
}
